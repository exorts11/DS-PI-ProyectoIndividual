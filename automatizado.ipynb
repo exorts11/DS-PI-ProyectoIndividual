{
 "cells": [
  {
   "cell_type": "markdown",
   "metadata": {},
   "source": [
    "Carga de archivos"
   ]
  },
  {
   "cell_type": "code",
   "execution_count": 133,
   "metadata": {},
   "outputs": [],
   "source": [
    "import pandas as pd\n",
    "import io\n",
    "import os\n",
    "import matplotlib.pyplot as plt\n",
    "import numpy as np\n",
    "import copy as copy"
   ]
  },
  {
   "cell_type": "code",
   "execution_count": 134,
   "metadata": {},
   "outputs": [],
   "source": [
    "# Ruta de los archivos\n",
    "ruta = \"./Datasets/\""
   ]
  },
  {
   "cell_type": "code",
   "execution_count": 135,
   "metadata": {},
   "outputs": [],
   "source": [
    "def ls(ruta = \"./Datasets\"):\n",
    "    return [arch.name for arch in os.scandir(ruta) if arch.is_file()]"
   ]
  },
  {
   "cell_type": "code",
   "execution_count": 136,
   "metadata": {},
   "outputs": [],
   "source": [
    "# Archivos de origen predeterminados\n",
    "origin = np.array(['Clientes.csv',\n",
    " 'Compra.csv',\n",
    " 'Gasto.csv',\n",
    " 'Localidades.csv',\n",
    " 'Proveedores.csv',\n",
    " 'Sucursales.csv',\n",
    " 'TiposDeGasto.csv',\n",
    " 'Venta.csv'])\n",
    "codificacion = np.array(['utf-8','utf-8','utf-8','utf-8','ANSI','utf-8','utf-8','utf-8'])\n"
   ]
  },
  {
   "cell_type": "code",
   "execution_count": 137,
   "metadata": {},
   "outputs": [],
   "source": [
    "# Leer los archivos que existen en el directorio\n",
    "archivos = np.array(ls())"
   ]
  },
  {
   "cell_type": "code",
   "execution_count": 138,
   "metadata": {},
   "outputs": [
    {
     "name": "stdout",
     "output_type": "stream",
     "text": [
      "[ True  True  True  True  True  True  True  True]\n"
     ]
    }
   ],
   "source": [
    "# Comprobar que archivos existen\n",
    "csv_existentes = np.array([False, False, False, False, False, False, False, False])\n",
    "excel_existe = False\n",
    "\n",
    "s = ''\n",
    "for word in archivos:\n",
    "    s += word\n",
    "\n",
    "idx = 0\n",
    "for frame_origin in origin :\n",
    "    if frame_origin in s:\n",
    "        csv_existentes[idx] = True\n",
    "    idx+=1\n",
    "\n",
    "# Comprobacion del excel\n",
    "if 'CanalDeVenta.xlsx' in s:\n",
    "    excel_existe = True\n",
    "\n",
    "print(csv_existentes)"
   ]
  },
  {
   "cell_type": "code",
   "execution_count": 139,
   "metadata": {},
   "outputs": [
    {
     "name": "stdout",
     "output_type": "stream",
     "text": [
      "['CanalDeVenta.xlsx' 'Clientes.csv' 'Compra.csv' 'Gasto.csv'\n",
      " 'Localidades.csv' 'Proveedores.csv' 'Sucursales.csv' 'TiposDeGasto.csv'\n",
      " 'Venta.csv']\n"
     ]
    }
   ],
   "source": [
    "# Cargamos las tablas csv en una lista\n",
    "data = []\n",
    "u = 0\n",
    "for i in origin:\n",
    "    if csv_existentes[u]:\n",
    "        r = ruta+i\n",
    "        g = open(r,encoding=codificacion[u])\n",
    "        n = 1\n",
    "        for i in g:\n",
    "            #print(i)\n",
    "            if ',' in i:\n",
    "                #print('Delimiter coma')\n",
    "                data.append(pd.read_csv(r,encoding=codificacion[u]))\n",
    "            else:\n",
    "                #print('delimiter punto y coma')\n",
    "                data.append(pd.read_csv(r,delimiter=';',encoding=codificacion[u]))\n",
    "            break\n",
    "        #print(u,r)\n",
    "        g.close()\n",
    "    u+=1\n",
    "\n",
    "print(archivos)\n"
   ]
  },
  {
   "cell_type": "code",
   "execution_count": 140,
   "metadata": {},
   "outputs": [],
   "source": [
    "archivos = copy.copy(origin[csv_existentes == True])"
   ]
  },
  {
   "cell_type": "code",
   "execution_count": 141,
   "metadata": {},
   "outputs": [
    {
     "name": "stdout",
     "output_type": "stream",
     "text": [
      "['Clientes.csv' 'Compra.csv' 'Gasto.csv' 'Localidades.csv'\n",
      " 'Proveedores.csv' 'Sucursales.csv' 'TiposDeGasto.csv' 'Venta.csv'\n",
      " 'CanalDeVenta.xls']\n"
     ]
    }
   ],
   "source": [
    "# Actualizamos la variable archivos\n",
    "\n",
    "# Cargamos el excel, si existe\n",
    "if excel_existe:\n",
    "    data.append(pd.read_excel(ruta+'CanalDeVenta.xlsx'))\n",
    "    archivos = np.append(archivos,['CanalDeVenta.xls'])\n",
    "print(archivos)"
   ]
  },
  {
   "cell_type": "code",
   "execution_count": 142,
   "metadata": {},
   "outputs": [
    {
     "data": {
      "text/html": [
       "<div>\n",
       "<style scoped>\n",
       "    .dataframe tbody tr th:only-of-type {\n",
       "        vertical-align: middle;\n",
       "    }\n",
       "\n",
       "    .dataframe tbody tr th {\n",
       "        vertical-align: top;\n",
       "    }\n",
       "\n",
       "    .dataframe thead th {\n",
       "        text-align: right;\n",
       "    }\n",
       "</style>\n",
       "<table border=\"1\" class=\"dataframe\">\n",
       "  <thead>\n",
       "    <tr style=\"text-align: right;\">\n",
       "      <th></th>\n",
       "      <th>CODIGO</th>\n",
       "      <th>DESCRIPCION</th>\n",
       "    </tr>\n",
       "  </thead>\n",
       "  <tbody>\n",
       "    <tr>\n",
       "      <th>0</th>\n",
       "      <td>1</td>\n",
       "      <td>Telefónica</td>\n",
       "    </tr>\n",
       "    <tr>\n",
       "      <th>1</th>\n",
       "      <td>2</td>\n",
       "      <td>OnLine</td>\n",
       "    </tr>\n",
       "    <tr>\n",
       "      <th>2</th>\n",
       "      <td>3</td>\n",
       "      <td>Presencial</td>\n",
       "    </tr>\n",
       "  </tbody>\n",
       "</table>\n",
       "</div>"
      ],
      "text/plain": [
       "   CODIGO DESCRIPCION\n",
       "0       1  Telefónica\n",
       "1       2      OnLine\n",
       "2       3  Presencial"
      ]
     },
     "execution_count": 142,
     "metadata": {},
     "output_type": "execute_result"
    }
   ],
   "source": [
    "data[-1]"
   ]
  },
  {
   "cell_type": "markdown",
   "metadata": {},
   "source": [
    "Homogenizar el nombre de los campos ID de cada tabla"
   ]
  },
  {
   "cell_type": "code",
   "execution_count": 143,
   "metadata": {},
   "outputs": [],
   "source": [
    "for idx, table in enumerate(data):\n",
    "    name = 'ID_'+archivos[idx][:-4]\n",
    "    data[idx].rename(columns={table.columns[0] : name}, inplace=True)"
   ]
  },
  {
   "cell_type": "markdown",
   "metadata": {},
   "source": [
    "Homogenizar el nombre de los campos de latitud y longitud"
   ]
  },
  {
   "cell_type": "code",
   "execution_count": 144,
   "metadata": {},
   "outputs": [],
   "source": [
    "data[0].rename(columns={data[0].columns[-3] : 'Longitud',data[0].columns[-2] : 'Latitud'}, inplace=True)\n",
    "data[3].rename(columns={data[3].columns[2] : 'Longitud',data[3].columns[1] : 'Latitud'}, inplace=True)\n",
    "data[-4].rename(columns={data[-4].columns[6] : 'Longitud',data[-4].columns[5] : 'Latitud'}, inplace=True)"
   ]
  },
  {
   "cell_type": "markdown",
   "metadata": {},
   "source": [
    "Convertir las columnas de latitud y longitud a float"
   ]
  },
  {
   "cell_type": "code",
   "execution_count": 145,
   "metadata": {},
   "outputs": [
    {
     "name": "stderr",
     "output_type": "stream",
     "text": [
      "C:\\Users\\exort\\AppData\\Local\\Temp\\ipykernel_19056\\1552489187.py:16: SettingWithCopyWarning: \n",
      "A value is trying to be set on a copy of a slice from a DataFrame\n",
      "\n",
      "See the caveats in the documentation: https://pandas.pydata.org/pandas-docs/stable/user_guide/indexing.html#returning-a-view-versus-a-copy\n",
      "  data[df][col].iloc[idx] = float(data[df][col].iloc[idx].replace(',','.'))\n"
     ]
    }
   ],
   "source": [
    "tablas = [0,3,-4]\n",
    "campos = ['Longitud','Latitud']\n",
    "for df in tablas:\n",
    "    for col in campos:\n",
    "        #df.Y = df.Y.replace(np.nan,80.5)\n",
    "        #df.Y = df.Y.astype(str)\n",
    "        data[df][col] = data[df][col].replace(np.nan,80.5).copy()\n",
    "        data[df][col] = data[df][col].astype(str)\n",
    "\n",
    "    #for idx in df.index:\n",
    "    #    if type(df.Y.iloc[idx]) != float:\n",
    "    #        df.Y.iloc[idx] = float(df.Y.iloc[idx].replace(',','.'))\n",
    "        for idx in data[df].index:\n",
    "            try:\n",
    "                if type(data[df][col].iloc[idx]) != float:\n",
    "                    data[df][col].iloc[idx] = float(data[df][col].iloc[idx].replace(',','.'))\n",
    "            except:\n",
    "                print(df,col,idx)\n",
    "                break\n",
    "        \n",
    "        data[df][col] = data[df][col].astype(float)"
   ]
  },
  {
   "cell_type": "markdown",
   "metadata": {},
   "source": [
    "Tabla del precio medio de los productos de la tabla Compra y Ventas"
   ]
  },
  {
   "cell_type": "code",
   "execution_count": 162,
   "metadata": {},
   "outputs": [],
   "source": [
    "# Tablas base\n",
    "t = np.array(['Compra.csv','Venta.csv'])\n",
    "\n",
    "for tablas in t:\n",
    "    if tablas in archivos:\n",
    "        # Valores unicos en el IdProducto en la tabla compras\n",
    "        productos = data[1].IdProducto.unique()\n",
    "        precio_medio = np.zeros((data[1].IdProducto.unique().shape[0],1))\n",
    "\n",
    "        # Obtenemos el precio medio\n",
    "        for idx, product in enumerate(productos):\n",
    "            precio_medio[idx] = data[1].Precio[data[1].IdProducto == product].median()\n",
    "\n",
    "        # Sustituimos el nulo por el precio medio\n",
    "        for i in data[1][data[1].Precio.isnull() == True].index:\n",
    "            data[1].Precio.iloc[i] = precio_medio[productos == data[1].IdProducto.iloc[i]]"
   ]
  },
  {
   "cell_type": "code",
   "execution_count": 165,
   "metadata": {},
   "outputs": [
    {
     "data": {
      "text/html": [
       "<div>\n",
       "<style scoped>\n",
       "    .dataframe tbody tr th:only-of-type {\n",
       "        vertical-align: middle;\n",
       "    }\n",
       "\n",
       "    .dataframe tbody tr th {\n",
       "        vertical-align: top;\n",
       "    }\n",
       "\n",
       "    .dataframe thead th {\n",
       "        text-align: right;\n",
       "    }\n",
       "</style>\n",
       "<table border=\"1\" class=\"dataframe\">\n",
       "  <thead>\n",
       "    <tr style=\"text-align: right;\">\n",
       "      <th></th>\n",
       "      <th>ID_Compra</th>\n",
       "      <th>Fecha</th>\n",
       "      <th>Fecha_Año</th>\n",
       "      <th>Fecha_Mes</th>\n",
       "      <th>Fecha_Periodo</th>\n",
       "      <th>IdProducto</th>\n",
       "      <th>Cantidad</th>\n",
       "      <th>Precio</th>\n",
       "      <th>IdProveedor</th>\n",
       "    </tr>\n",
       "  </thead>\n",
       "  <tbody>\n",
       "  </tbody>\n",
       "</table>\n",
       "</div>"
      ],
      "text/plain": [
       "Empty DataFrame\n",
       "Columns: [ID_Compra, Fecha, Fecha_Año, Fecha_Mes, Fecha_Periodo, IdProducto, Cantidad, Precio, IdProveedor]\n",
       "Index: []"
      ]
     },
     "execution_count": 165,
     "metadata": {},
     "output_type": "execute_result"
    }
   ],
   "source": [
    "data[1][data[1].Precio.isnull() == True]"
   ]
  },
  {
   "cell_type": "code",
   "execution_count": 163,
   "metadata": {},
   "outputs": [
    {
     "data": {
      "text/plain": [
       "array(['Clientes.csv', 'Compra.csv', 'Gasto.csv', 'Localidades.csv',\n",
       "       'Proveedores.csv', 'Sucursales.csv', 'TiposDeGasto.csv',\n",
       "       'Venta.csv', 'CanalDeVenta.xls'], dtype='<U16')"
      ]
     },
     "execution_count": 163,
     "metadata": {},
     "output_type": "execute_result"
    }
   ],
   "source": [
    "archivos"
   ]
  },
  {
   "cell_type": "code",
   "execution_count": 164,
   "metadata": {},
   "outputs": [
    {
     "name": "stdout",
     "output_type": "stream",
     "text": [
      "['ID_Clientes', 'Provincia', 'Nombre_y_Apellido', 'Domicilio', 'Telefono', 'Edad', 'Localidad', 'Longitud', 'Latitud', 'col10']\n",
      "['ID_Compra', 'Fecha', 'Fecha_Año', 'Fecha_Mes', 'Fecha_Periodo', 'IdProducto', 'Cantidad', 'Precio', 'IdProveedor']\n",
      "['ID_Gasto', 'IdSucursal', 'IdTipoGasto', 'Fecha', 'Monto']\n",
      "['ID_Localidades', 'Latitud', 'Longitud', 'departamento_id', 'departamento_nombre', 'fuente', 'id', 'localidad_censal_id', 'localidad_censal_nombre', 'municipio_id', 'municipio_nombre', 'nombre', 'provincia_id', 'provincia_nombre']\n",
      "['ID_Proveedores', 'Nombre', 'Address', 'City', 'State', 'Country', 'departamen']\n",
      "['ID_Sucursales', 'Sucursal', 'Direccion', 'Localidad', 'Provincia', 'Latitud', 'Longitud']\n",
      "['ID_TiposDeGasto', 'Descripcion', 'Monto_Aproximado']\n",
      "['ID_Venta', 'Fecha', 'Fecha_Entrega', 'IdCanal', 'IdCliente', 'IdSucursal', 'IdEmpleado', 'IdProducto', 'Precio', 'Cantidad']\n",
      "['ID_CanalDeVenta', 'DESCRIPCION']\n"
     ]
    }
   ],
   "source": [
    "for idx, table in enumerate(data):\n",
    "    print(list(table.columns))"
   ]
  }
 ],
 "metadata": {
  "kernelspec": {
   "display_name": "Python 3.9.13 64-bit",
   "language": "python",
   "name": "python3"
  },
  "language_info": {
   "codemirror_mode": {
    "name": "ipython",
    "version": 3
   },
   "file_extension": ".py",
   "mimetype": "text/x-python",
   "name": "python",
   "nbconvert_exporter": "python",
   "pygments_lexer": "ipython3",
   "version": "3.9.13"
  },
  "orig_nbformat": 4,
  "vscode": {
   "interpreter": {
    "hash": "89f8f4da03b88366b24b3e615f25203f75fc591e3c4bb5e4e10f1e65da1c83de"
   }
  }
 },
 "nbformat": 4,
 "nbformat_minor": 2
}
